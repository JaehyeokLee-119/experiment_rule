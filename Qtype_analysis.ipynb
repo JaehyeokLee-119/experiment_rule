{
 "cells": [
  {
   "cell_type": "markdown",
   "metadata": {},
   "source": [
    "## Question Type 성능 분석"
   ]
  },
  {
   "cell_type": "markdown",
   "metadata": {},
   "source": [
    "### RULE MainQ Question Type별 성능 분석"
   ]
  },
  {
   "cell_type": "markdown",
   "metadata": {},
   "source": [
    "1. MainQ와 MainQ Type의 매칭\n",
    "2. 관찰된 성능과 ReClor 페이퍼의 관찰 결과를 비교하기 \n",
    "    - (Type별 성능이 페이퍼에 리포트된 것과 비슷한 경향을 보이는지를 통해 관찰의 유효성을 검증)\n",
    "\n",
    "실험 결과는 Mixtral 8x7B 8bit 결과를 사용"
   ]
  },
  {
   "cell_type": "code",
   "execution_count": 39,
   "metadata": {},
   "outputs": [],
   "source": [
    "# result_file = 'Result/Mixtral_8bit_template:mixtral/Mixtral_template_RULE_mainq_Mixtral_8bit.jsonl'\n",
    "# map_file = 'Result/RULE_mainq_map.jsonl'\n",
    "# type_name_file = '../Data/ReClor/question_type_names.json'\n",
    "\n",
    "result_file = 'Result/Mixtral_8bit_template:mixtral/Mixtral_template_RULE_subq_all_Mixtral_8bit.jsonl'\n",
    "map_file = 'Result/RULE_subq_map.jsonl'\n",
    "type_name_file = '../Data/ReClor/question_type_names.json'\n",
    "\n",
    "import json\n",
    "import pandas as pd \n",
    "\n",
    "result_data = pd.read_json(result_file, lines=True)\n",
    "map_data = pd.read_json(map_file, lines=True)\n",
    "type_name_data = pd.read_json(type_name_file)\n",
    "\n",
    "# result_data에 response type 추출\n",
    "result_data['response_code'] = map_data['response_code']\n",
    "result_data['question_type'] = result_data['response_code'].apply(lambda x: type_name_data[0][x])"
   ]
  },
  {
   "cell_type": "code",
   "execution_count": 40,
   "metadata": {},
   "outputs": [
    {
     "name": "stdout",
     "output_type": "stream",
     "text": [
      "result, accuracy: 0.6623376623376623\n"
     ]
    }
   ],
   "source": [
    "# result_data 정답 추출 (inference -> prediction)\n",
    "result = result_data\n",
    "\n",
    "def extract_first_num_in_string(string: str):\n",
    "    result = ''.join([x for x in string if x.isdigit()])\n",
    "    if result == '':\n",
    "        return -1\n",
    "    else: \n",
    "        return int(''.join([x for x in string if x.isdigit()]))-1\n",
    "\n",
    "def correctness_matching(subq_all: pd.DataFrame, subq_id: str):\n",
    "    if subq_id in subq_all['id_string'].values:\n",
    "        return subq_all[subq_all['id_string']==subq_id]['main_option_correctness'].values[0]\n",
    "    else: \n",
    "        return None\n",
    "\n",
    "def extract_mainq_id_string(subq_id: str):\n",
    "    return subq_id.split('_sub')[0]\n",
    "\n",
    "\n",
    "result['prediction'] = result['inference'].apply(extract_first_num_in_string)\n",
    "correct = 0\n",
    "for i in range(len(result)):\n",
    "    if result.label[i] == result.prediction[i]:\n",
    "        correct += 1\n",
    "print(f'result, accuracy: {correct/len(result)}')"
   ]
  },
  {
   "cell_type": "code",
   "execution_count": 43,
   "metadata": {},
   "outputs": [
    {
     "data": {
      "text/html": [
       "<div>\n",
       "<style scoped>\n",
       "    .dataframe tbody tr th:only-of-type {\n",
       "        vertical-align: middle;\n",
       "    }\n",
       "\n",
       "    .dataframe tbody tr th {\n",
       "        vertical-align: top;\n",
       "    }\n",
       "\n",
       "    .dataframe thead th {\n",
       "        text-align: right;\n",
       "    }\n",
       "</style>\n",
       "<table border=\"1\" class=\"dataframe\">\n",
       "  <thead>\n",
       "    <tr style=\"text-align: right;\">\n",
       "      <th></th>\n",
       "      <th>type_name</th>\n",
       "      <th>type_num</th>\n",
       "      <th>accuracy</th>\n",
       "      <th>num</th>\n",
       "    </tr>\n",
       "  </thead>\n",
       "  <tbody>\n",
       "  </tbody>\n",
       "</table>\n",
       "</div>"
      ],
      "text/plain": [
       "Empty DataFrame\n",
       "Columns: [type_name, type_num, accuracy, num]\n",
       "Index: []"
      ]
     },
     "execution_count": 43,
     "metadata": {},
     "output_type": "execute_result"
    }
   ],
   "source": [
    "# result_selctive는 result에서 main_option_correctness가 True인 것만 추출\n",
    "result_selective = result[result['main_option_correctness']==True]\n",
    "result = result_selective\n",
    "\n",
    "types_list = []\n",
    "types_num_list = []\n",
    "accuracy_list = []\n",
    "num_list = []\n",
    "for i in range(len(type_name_data)):\n",
    "    # result에서 response_code가 i인 것만 추출\n",
    "    result_i = result[result['response_code']==i]\n",
    "    \n",
    "    correct = 0\n",
    "    for j in range(len(result_i)):\n",
    "        if result_i.label.values[j] == result_i.prediction.values[j]:\n",
    "            correct += 1\n",
    "    \n",
    "    if len(result_i) != 0:\n",
    "        print(f'{type_name_data[0][i]}({i})\\taccuracy: {correct/len(result_i)} ({len(result_i)})')\n",
    "        types_list.append(type_name_data[0][i])\n",
    "        types_num_list.append(i)\n",
    "        accuracy_list.append(correct/len(result_i))\n",
    "        num_list.append(len(result_i))\n",
    "    \n",
    "# df에 type_name_data[0][i], accuracy, len(result_i) 저장\n",
    "    \n",
    "df = pd.DataFrame()\n",
    "df['type_name'] = types_list\n",
    "df['type_num'] = types_num_list\n",
    "df['accuracy'] = accuracy_list\n",
    "df['num'] = num_list\n",
    "\n",
    "df"
   ]
  }
 ],
 "metadata": {
  "kernelspec": {
   "display_name": "cut",
   "language": "python",
   "name": "python3"
  },
  "language_info": {
   "codemirror_mode": {
    "name": "ipython",
    "version": 3
   },
   "file_extension": ".py",
   "mimetype": "text/x-python",
   "name": "python",
   "nbconvert_exporter": "python",
   "pygments_lexer": "ipython3",
   "version": "3.10.13"
  }
 },
 "nbformat": 4,
 "nbformat_minor": 2
}
